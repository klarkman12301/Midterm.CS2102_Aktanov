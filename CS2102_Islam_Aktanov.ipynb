{
 "cells": [
  {
   "cell_type": "markdown",
   "id": "975d5d82",
   "metadata": {},
   "source": [
    "# Big Data in Law Enforcement"
   ]
  },
  {
   "cell_type": "markdown",
   "id": "f89a69ac",
   "metadata": {},
   "source": [
    "## Introduction"
   ]
  },
  {
   "cell_type": "markdown",
   "id": "ee05310c",
   "metadata": {},
   "source": [
    "Big data refers to extremely large and complex datasets that cannot be effectively managed or analyzed using traditional data processing tools. It encompasses vast volumes of structured and unstructured data, requiring advanced technologies and techniques to extract valuable insights, trends, and patterns for various applications across industries."
   ]
  },
  {
   "cell_type": "markdown",
   "id": "cfc6be44",
   "metadata": {},
   "source": [
    "***Some of the popular languages that Data Scientists use are:***\n",
    "1. Python \n",
    "2. Java \n",
    "3. C++\n",
    "4. C"
   ]
  },
  {
   "cell_type": "markdown",
   "id": "b9fde080",
   "metadata": {},
   "source": [
    "***Some of the commonly used libraries used by Data Scientist include:***\n",
    "1. Numpy \n",
    "2. Pandas \n",
    "3. Scikit-Learn"
   ]
  },
  {
   "cell_type": "markdown",
   "id": "74211c83",
   "metadata": {},
   "source": [
    "| ***Data Science tools*** |\n",
    "| ------------|\n",
    "| Anaconda Notebook |\n",
    "| Apache Spark |\n",
    "| RStudio |"
   ]
  },
  {
   "cell_type": "code",
   "execution_count": 5,
   "id": "4d177133",
   "metadata": {},
   "outputs": [
    {
     "name": "stdout",
     "output_type": "stream",
     "text": [
      "\u001b[1mBelow are a few examples of evaluating arithmetic expressions in Python: \u001b[0m\n"
     ]
    },
    {
     "data": {
      "text/plain": [
       "95571"
      ]
     },
     "execution_count": 5,
     "metadata": {},
     "output_type": "execute_result"
    }
   ],
   "source": [
    "print('\\033[1m' + 'Below are a few examples of evaluating arithmetic expressions in Python: ' + '\\033[0m')\n",
    "777*123"
   ]
  },
  {
   "cell_type": "markdown",
   "id": "eebc2ce7",
   "metadata": {},
   "source": [
    "**This is a simple arithmetic expression**"
   ]
  },
  {
   "cell_type": "code",
   "execution_count": 7,
   "id": "db66a61a",
   "metadata": {},
   "outputs": [
    {
     "data": {
      "text/plain": [
       "33"
      ]
     },
     "execution_count": 7,
     "metadata": {},
     "output_type": "execute_result"
    }
   ],
   "source": [
    " (4*6)+9"
   ]
  },
  {
   "cell_type": "code",
   "execution_count": 8,
   "id": "06362753",
   "metadata": {},
   "outputs": [
    {
     "name": "stdout",
     "output_type": "stream",
     "text": [
      "5.0\n"
     ]
    }
   ],
   "source": [
    "#There is code that convert minutes into hours\n",
    "minutes = 300\n",
    "hours = minutes/60\n",
    "print(hours)"
   ]
  },
  {
   "cell_type": "markdown",
   "id": "2950bf97",
   "metadata": {},
   "source": [
    "# Objectives:\n",
    "\n",
    "* Explore the concept of Big Data and its relevance in data science.\n",
    "* Discuss commonly used libraries in Python for data science.\n",
    "* Provide an overview of popular open-source tools and development environments for Big Data and Data Science.\n",
    "* Explain the architecture of Jupyter notebooks and their key components.\n",
    "* List the primary purposes of Anaconda in the context of data science."
   ]
  },
  {
   "cell_type": "markdown",
   "id": "29b64962",
   "metadata": {},
   "source": [
    "## Author: Aktanov Islam"
   ]
  },
  {
   "cell_type": "markdown",
   "id": "2aad8f03",
   "metadata": {},
   "source": [
    "# Github:\n",
    "https://github.com/klarkman12301/Midterm.CS2102_Aktanov"
   ]
  }
 ],
 "metadata": {
  "kernelspec": {
   "display_name": "Python 3 (ipykernel)",
   "language": "python",
   "name": "python3"
  },
  "language_info": {
   "codemirror_mode": {
    "name": "ipython",
    "version": 3
   },
   "file_extension": ".py",
   "mimetype": "text/x-python",
   "name": "python",
   "nbconvert_exporter": "python",
   "pygments_lexer": "ipython3",
   "version": "3.11.5"
  }
 },
 "nbformat": 4,
 "nbformat_minor": 5
}
